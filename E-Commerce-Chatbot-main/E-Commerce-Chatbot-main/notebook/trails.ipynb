{
 "cells": [
  {
   "cell_type": "code",
   "execution_count": 1,
   "metadata": {},
   "outputs": [],
   "source": [
    "import pandas as pd"
   ]
  },
  {
   "cell_type": "code",
   "execution_count": 2,
   "metadata": {},
   "outputs": [],
   "source": [
    "data = pd.read_csv(r\"C:\\\\Users\\\\Shri\\\\Downloads\\\\E-Commerce-Chatbot-main\\\\E-Commerce-Chatbot-main\\\\data\\\\flipkart_product_review.csv\")"
   ]
  },
  {
   "cell_type": "code",
   "execution_count": 3,
   "metadata": {},
   "outputs": [
    {
     "data": {
      "text/plain": [
       "Index(['product_id', 'product_title', 'rating', 'summary', 'review'], dtype='object')"
      ]
     },
     "execution_count": 3,
     "metadata": {},
     "output_type": "execute_result"
    }
   ],
   "source": [
    "data.columns"
   ]
  },
  {
   "cell_type": "code",
   "execution_count": 4,
   "metadata": {},
   "outputs": [],
   "source": [
    "data=data[['product_title','review']]"
   ]
  },
  {
   "cell_type": "code",
   "execution_count": 5,
   "metadata": {},
   "outputs": [
    {
     "data": {
      "text/html": [
       "<div>\n",
       "<style scoped>\n",
       "    .dataframe tbody tr th:only-of-type {\n",
       "        vertical-align: middle;\n",
       "    }\n",
       "\n",
       "    .dataframe tbody tr th {\n",
       "        vertical-align: top;\n",
       "    }\n",
       "\n",
       "    .dataframe thead th {\n",
       "        text-align: right;\n",
       "    }\n",
       "</style>\n",
       "<table border=\"1\" class=\"dataframe\">\n",
       "  <thead>\n",
       "    <tr style=\"text-align: right;\">\n",
       "      <th></th>\n",
       "      <th>product_title</th>\n",
       "      <th>review</th>\n",
       "    </tr>\n",
       "  </thead>\n",
       "  <tbody>\n",
       "    <tr>\n",
       "      <th>0</th>\n",
       "      <td>BoAt Rockerz 235v2 with ASAP charging Version ...</td>\n",
       "      <td>1-more flexible2-bass is very high3-sound clar...</td>\n",
       "    </tr>\n",
       "    <tr>\n",
       "      <th>1</th>\n",
       "      <td>BoAt Rockerz 235v2 with ASAP charging Version ...</td>\n",
       "      <td>Super sound and good looking I like that prize</td>\n",
       "    </tr>\n",
       "    <tr>\n",
       "      <th>2</th>\n",
       "      <td>BoAt Rockerz 235v2 with ASAP charging Version ...</td>\n",
       "      <td>Very much satisfied with the device at this pr...</td>\n",
       "    </tr>\n",
       "    <tr>\n",
       "      <th>3</th>\n",
       "      <td>BoAt Rockerz 235v2 with ASAP charging Version ...</td>\n",
       "      <td>Nice headphone, bass was very good and sound i...</td>\n",
       "    </tr>\n",
       "    <tr>\n",
       "      <th>4</th>\n",
       "      <td>BoAt Rockerz 235v2 with ASAP charging Version ...</td>\n",
       "      <td>Sound quality super battery backup super quali...</td>\n",
       "    </tr>\n",
       "    <tr>\n",
       "      <th>...</th>\n",
       "      <td>...</td>\n",
       "      <td>...</td>\n",
       "    </tr>\n",
       "    <tr>\n",
       "      <th>445</th>\n",
       "      <td>BoAt BassHeads 100 Wired Headset</td>\n",
       "      <td>nice product..  color is exactly shown in the ...</td>\n",
       "    </tr>\n",
       "    <tr>\n",
       "      <th>446</th>\n",
       "      <td>BoAt BassHeads 100 Wired Headset</td>\n",
       "      <td>Awesome Headset . I was searching for the same...</td>\n",
       "    </tr>\n",
       "    <tr>\n",
       "      <th>447</th>\n",
       "      <td>BoAt BassHeads 100 Wired Headset</td>\n",
       "      <td>It's a really perfect earphone. I love it . So...</td>\n",
       "    </tr>\n",
       "    <tr>\n",
       "      <th>448</th>\n",
       "      <td>BoAt BassHeads 100 Wired Headset</td>\n",
       "      <td>Good earbuds at this price Range and Boat prov...</td>\n",
       "    </tr>\n",
       "    <tr>\n",
       "      <th>449</th>\n",
       "      <td>BoAt BassHeads 100 Wired Headset</td>\n",
       "      <td>a very good earphone in budget sound is awesom...</td>\n",
       "    </tr>\n",
       "  </tbody>\n",
       "</table>\n",
       "<p>450 rows × 2 columns</p>\n",
       "</div>"
      ],
      "text/plain": [
       "                                         product_title  \\\n",
       "0    BoAt Rockerz 235v2 with ASAP charging Version ...   \n",
       "1    BoAt Rockerz 235v2 with ASAP charging Version ...   \n",
       "2    BoAt Rockerz 235v2 with ASAP charging Version ...   \n",
       "3    BoAt Rockerz 235v2 with ASAP charging Version ...   \n",
       "4    BoAt Rockerz 235v2 with ASAP charging Version ...   \n",
       "..                                                 ...   \n",
       "445                   BoAt BassHeads 100 Wired Headset   \n",
       "446                   BoAt BassHeads 100 Wired Headset   \n",
       "447                   BoAt BassHeads 100 Wired Headset   \n",
       "448                   BoAt BassHeads 100 Wired Headset   \n",
       "449                   BoAt BassHeads 100 Wired Headset   \n",
       "\n",
       "                                                review  \n",
       "0    1-more flexible2-bass is very high3-sound clar...  \n",
       "1       Super sound and good looking I like that prize  \n",
       "2    Very much satisfied with the device at this pr...  \n",
       "3    Nice headphone, bass was very good and sound i...  \n",
       "4    Sound quality super battery backup super quali...  \n",
       "..                                                 ...  \n",
       "445  nice product..  color is exactly shown in the ...  \n",
       "446  Awesome Headset . I was searching for the same...  \n",
       "447  It's a really perfect earphone. I love it . So...  \n",
       "448  Good earbuds at this price Range and Boat prov...  \n",
       "449  a very good earphone in budget sound is awesom...  \n",
       "\n",
       "[450 rows x 2 columns]"
      ]
     },
     "execution_count": 5,
     "metadata": {},
     "output_type": "execute_result"
    }
   ],
   "source": [
    "data"
   ]
  },
  {
   "cell_type": "code",
   "execution_count": 7,
   "metadata": {},
   "outputs": [],
   "source": [
    "product_list = [] \n",
    "# Iterate over the rows of the DataFrame \n",
    "for index, row in data.iterrows(): \n",
    "# Construct an object with 'product_name' and 'review' attributes \n",
    "    obj = { \n",
    "        'product_name': row['product_title'], \n",
    "        'review': row['review'] \n",
    "    } \n",
    "#Append the object to the list \n",
    "product_list.append(obj) \n"
   ]
  },
  {
   "cell_type": "code",
   "execution_count": 8,
   "metadata": {},
   "outputs": [
    {
     "name": "stdout",
     "output_type": "stream",
     "text": [
      "{'product_name': 'BoAt BassHeads 100 Wired Headset', 'review': 'a very good earphone in budget sound is awesome very pure sound but the bass is ok ok..  you can go for it without thinking much'}\n"
     ]
    }
   ],
   "source": [
    "for obj in product_list:\n",
    "    print(obj)"
   ]
  },
  {
   "cell_type": "code",
   "execution_count": 9,
   "metadata": {},
   "outputs": [],
   "source": [
    "from langchain_core.documents import Document"
   ]
  },
  {
   "cell_type": "code",
   "execution_count": 10,
   "metadata": {},
   "outputs": [],
   "source": [
    "docs = [] \n",
    "for entry in product_list: \n",
    "    metadata = {\"product_name\": entry['product_name']} \n",
    "    doc = Document(page_content=entry['review'], metadata=metadata)\n",
    "    docs.append(doc)"
   ]
  }
 ],
 "metadata": {
  "kernelspec": {
   "display_name": "Python 3",
   "language": "python",
   "name": "python3"
  },
  "language_info": {
   "codemirror_mode": {
    "name": "ipython",
    "version": 3
   },
   "file_extension": ".py",
   "mimetype": "text/x-python",
   "name": "python",
   "nbconvert_exporter": "python",
   "pygments_lexer": "ipython3",
   "version": "3.12.4"
  }
 },
 "nbformat": 4,
 "nbformat_minor": 2
}
